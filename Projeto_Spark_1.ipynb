{
  "nbformat": 4,
  "nbformat_minor": 0,
  "metadata": {
    "colab": {
      "provenance": [],
      "authorship_tag": "ABX9TyOEioQlVsohy/J1ziEmg/3O",
      "include_colab_link": true
    },
    "kernelspec": {
      "name": "python3",
      "display_name": "Python 3"
    },
    "language_info": {
      "name": "python"
    }
  },
  "cells": [
    {
      "cell_type": "markdown",
      "metadata": {
        "id": "view-in-github",
        "colab_type": "text"
      },
      "source": [
        "<a href=\"https://colab.research.google.com/github/yuri-feital/trabalho-spark/blob/main/Projeto_Spark_1.ipynb\" target=\"_parent\"><img src=\"https://colab.research.google.com/assets/colab-badge.svg\" alt=\"Open In Colab\"/></a>"
      ]
    },
    {
      "cell_type": "markdown",
      "source": [
        "Importar Arquivo do Drive"
      ],
      "metadata": {
        "id": "qyPs-61dV9BU"
      }
    },
    {
      "cell_type": "code",
      "source": [
        "from google.colab import drive\n",
        "drive.mount('/content/drive')"
      ],
      "metadata": {
        "colab": {
          "base_uri": "https://localhost:8080/"
        },
        "id": "gXnRMc9WV8n2",
        "outputId": "b672b4af-21ed-4f21-d5d2-43a5196ff2a9"
      },
      "execution_count": 8,
      "outputs": [
        {
          "output_type": "stream",
          "name": "stdout",
          "text": [
            "Drive already mounted at /content/drive; to attempt to forcibly remount, call drive.mount(\"/content/drive\", force_remount=True).\n"
          ]
        }
      ]
    },
    {
      "cell_type": "code",
      "source": [
        "import os\n",
        "os.chdir(\"/content/drive/MyDrive/MIT_Infnet/Aula_Hadoop/Projeto\")"
      ],
      "metadata": {
        "id": "gleCLUNEWKtK"
      },
      "execution_count": 9,
      "outputs": []
    },
    {
      "cell_type": "markdown",
      "source": [
        "Instalar o pyspark"
      ],
      "metadata": {
        "id": "sENMASyJEXMC"
      }
    },
    {
      "cell_type": "code",
      "execution_count": 10,
      "metadata": {
        "colab": {
          "base_uri": "https://localhost:8080/"
        },
        "id": "d3GcnGaEEIzo",
        "outputId": "13650934-765f-4084-f160-e3abd04223a0"
      },
      "outputs": [
        {
          "output_type": "stream",
          "name": "stdout",
          "text": [
            "Requirement already satisfied: pyspark in /usr/local/lib/python3.10/dist-packages (3.5.3)\n",
            "Requirement already satisfied: py4j==0.10.9.7 in /usr/local/lib/python3.10/dist-packages (from pyspark) (0.10.9.7)\n"
          ]
        }
      ],
      "source": [
        "!pip install pyspark"
      ]
    },
    {
      "cell_type": "markdown",
      "source": [
        "Importar SparkSession ao invés de SparkContext diretamente para trabalhar com DataFrames"
      ],
      "metadata": {
        "id": "h6kUp8ARESA1"
      }
    },
    {
      "cell_type": "code",
      "source": [
        "from pyspark.sql import SparkSession"
      ],
      "metadata": {
        "id": "QEazfoPDSJ6N"
      },
      "execution_count": 11,
      "outputs": []
    },
    {
      "cell_type": "markdown",
      "source": [
        "Criar a SparkSession"
      ],
      "metadata": {
        "id": "V09MGk4aSYfU"
      }
    },
    {
      "cell_type": "code",
      "source": [
        "spark = SparkSession.builder \\\n",
        "    .appName(\"Auxilio Emergencial\") \\\n",
        "    .master(\"local\") \\\n",
        "    .getOrCreate()"
      ],
      "metadata": {
        "id": "gFO-PbrqERPS"
      },
      "execution_count": 12,
      "outputs": []
    },
    {
      "cell_type": "markdown",
      "source": [
        "Verificar o nome da aplicação (opcional)"
      ],
      "metadata": {
        "id": "ePrLj-ohScx_"
      }
    },
    {
      "cell_type": "code",
      "source": [
        "print(spark.sparkContext.appName)"
      ],
      "metadata": {
        "colab": {
          "base_uri": "https://localhost:8080/"
        },
        "id": "zALexsKnPB4m",
        "outputId": "31e30276-adb4-4c05-e181-a0c9c34f2e6c"
      },
      "execution_count": 13,
      "outputs": [
        {
          "output_type": "stream",
          "name": "stdout",
          "text": [
            "Auxilio Emergencial\n"
          ]
        }
      ]
    },
    {
      "cell_type": "markdown",
      "source": [
        "Ler o arquivo CSV usando DataFrame API (usando header=True)"
      ],
      "metadata": {
        "id": "om70ypUTSnb4"
      }
    },
    {
      "cell_type": "code",
      "source": [
        "municipio_df = spark.read.csv(\"POP2022_Municipios_20230622.csv\",sep=';', header=True, inferSchema=True)\n",
        "auxilio_df = spark.read.csv(\"auxilio_emergencial (1).csv\",sep=';', header=True, inferSchema=True)\n",
        "joined_df = auxilio_df.join(municipio_df, auxilio_df[\"uf\"] == municipio_df[\"uf\"])"
      ],
      "metadata": {
        "id": "vvlv0qKxN9lA"
      },
      "execution_count": null,
      "outputs": []
    },
    {
      "cell_type": "markdown",
      "source": [
        "Mostrar as primeiras 5 linhas do DataFrame"
      ],
      "metadata": {
        "id": "PJAOObDxSvfh"
      }
    },
    {
      "cell_type": "code",
      "source": [
        "municipio_df.show(5)\n",
        "auxilio_df.show(5)"
      ],
      "metadata": {
        "id": "IM2gYG9cO1d6"
      },
      "execution_count": null,
      "outputs": []
    },
    {
      "cell_type": "markdown",
      "source": [
        "Converter DataFrame para RDD"
      ],
      "metadata": {
        "id": "2PawEtn1S8ZZ"
      }
    },
    {
      "cell_type": "code",
      "source": [
        "municipio_rdd = municipio_df.rdd\n",
        "auxilio_rdd = auxilio_df.rdd"
      ],
      "metadata": {
        "id": "wMtxhS9wQBYn"
      },
      "execution_count": null,
      "outputs": []
    },
    {
      "cell_type": "markdown",
      "source": [
        "Mostrar as primeiras linhas do RDD"
      ],
      "metadata": {
        "id": "J_vQB3AKTLzx"
      }
    },
    {
      "cell_type": "code",
      "source": [
        "municipio_rdd.take(5)\n",
        "auxilio_rdd.take(5)"
      ],
      "metadata": {
        "id": "dw5mHBJ3QCII"
      },
      "execution_count": null,
      "outputs": []
    },
    {
      "cell_type": "code",
      "source": [
        "populacao_por_uf = municipio_df.groupBy(\"uf\").agg({\" POPULAÇÃO \": \"sum\"}).withColumnRenamed(\"sum( POPULAÇÃO )\", \"total_pessoa\")\n",
        "populacao_por_uf.show(n=populacao_por_uf.count(), truncate=False)"
      ],
      "metadata": {
        "id": "QRnm9guIQB-S"
      },
      "execution_count": null,
      "outputs": []
    },
    {
      "cell_type": "code",
      "source": [],
      "metadata": {
        "id": "_6CzI6THQB3a"
      },
      "execution_count": null,
      "outputs": []
    }
  ]
}