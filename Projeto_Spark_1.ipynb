{
  "nbformat": 4,
  "nbformat_minor": 0,
  "metadata": {
    "colab": {
      "provenance": [],
      "authorship_tag": "ABX9TyOafuYgYH/kixXPKTOSua3z",
      "include_colab_link": true
    },
    "kernelspec": {
      "name": "python3",
      "display_name": "Python 3"
    },
    "language_info": {
      "name": "python"
    }
  },
  "cells": [
    {
      "cell_type": "markdown",
      "metadata": {
        "id": "view-in-github",
        "colab_type": "text"
      },
      "source": [
        "<a href=\"https://colab.research.google.com/github/yuri-feital/trabalho-spark/blob/main/Projeto_Spark_1.ipynb\" target=\"_parent\"><img src=\"https://colab.research.google.com/assets/colab-badge.svg\" alt=\"Open In Colab\"/></a>"
      ]
    },
    {
      "cell_type": "markdown",
      "source": [
        "#Importando arquivo do Drive"
      ],
      "metadata": {
        "id": "qyPs-61dV9BU"
      }
    },
    {
      "cell_type": "markdown",
      "source": [
        "Acessar Drive"
      ],
      "metadata": {
        "id": "uXMwQvqwwntj"
      }
    },
    {
      "cell_type": "code",
      "source": [
        "from google.colab import drive\n",
        "drive.mount('/content/drive')"
      ],
      "metadata": {
        "colab": {
          "base_uri": "https://localhost:8080/"
        },
        "id": "gXnRMc9WV8n2",
        "outputId": "3c24e281-b6a2-46c9-ce07-13e0e5521320"
      },
      "execution_count": 1,
      "outputs": [
        {
          "output_type": "stream",
          "name": "stdout",
          "text": [
            "Mounted at /content/drive\n"
          ]
        }
      ]
    },
    {
      "cell_type": "markdown",
      "source": [
        "Acessar Pasta das Bases"
      ],
      "metadata": {
        "id": "y-LYVMf3wqHu"
      }
    },
    {
      "cell_type": "code",
      "source": [
        "import os\n",
        "os.chdir(\"/content/drive/MyDrive/MIT_Infnet/Aula_Hadoop/Projeto\")"
      ],
      "metadata": {
        "id": "gleCLUNEWKtK"
      },
      "execution_count": 2,
      "outputs": []
    },
    {
      "cell_type": "markdown",
      "source": [
        "#Configuração do ambiente PySpark"
      ],
      "metadata": {
        "id": "sENMASyJEXMC"
      }
    },
    {
      "cell_type": "markdown",
      "source": [
        "Instalar PySpark"
      ],
      "metadata": {
        "id": "gReXyx8AwyYs"
      }
    },
    {
      "cell_type": "code",
      "execution_count": 3,
      "metadata": {
        "colab": {
          "base_uri": "https://localhost:8080/"
        },
        "id": "d3GcnGaEEIzo",
        "outputId": "72810fde-cad8-4f77-e499-dade9210830f"
      },
      "outputs": [
        {
          "output_type": "stream",
          "name": "stdout",
          "text": [
            "Collecting pyspark\n",
            "  Downloading pyspark-3.5.3.tar.gz (317.3 MB)\n",
            "\u001b[2K     \u001b[90m━━━━━━━━━━━━━━━━━━━━━━━━━━━━━━━━━━━━━━━━\u001b[0m \u001b[32m317.3/317.3 MB\u001b[0m \u001b[31m1.4 MB/s\u001b[0m eta \u001b[36m0:00:00\u001b[0m\n",
            "\u001b[?25h  Preparing metadata (setup.py) ... \u001b[?25l\u001b[?25hdone\n",
            "Requirement already satisfied: py4j==0.10.9.7 in /usr/local/lib/python3.10/dist-packages (from pyspark) (0.10.9.7)\n",
            "Building wheels for collected packages: pyspark\n",
            "  Building wheel for pyspark (setup.py) ... \u001b[?25l\u001b[?25hdone\n",
            "  Created wheel for pyspark: filename=pyspark-3.5.3-py2.py3-none-any.whl size=317840625 sha256=4130c4a6d6d9610bc03b87cc4be9df53f5cec516caad01ed2dbec5237396b915\n",
            "  Stored in directory: /root/.cache/pip/wheels/1b/3a/92/28b93e2fbfdbb07509ca4d6f50c5e407f48dce4ddbda69a4ab\n",
            "Successfully built pyspark\n",
            "Installing collected packages: pyspark\n",
            "Successfully installed pyspark-3.5.3\n"
          ]
        }
      ],
      "source": [
        "!pip install pyspark"
      ]
    },
    {
      "cell_type": "markdown",
      "source": [
        "Importar SparkSession ao invés de SparkContext diretamente para trabalhar com DataFrames"
      ],
      "metadata": {
        "id": "h6kUp8ARESA1"
      }
    },
    {
      "cell_type": "code",
      "source": [
        "from pyspark.sql import SparkSession"
      ],
      "metadata": {
        "id": "QEazfoPDSJ6N"
      },
      "execution_count": 4,
      "outputs": []
    },
    {
      "cell_type": "markdown",
      "source": [
        "Criar a SparkSession"
      ],
      "metadata": {
        "id": "V09MGk4aSYfU"
      }
    },
    {
      "cell_type": "code",
      "source": [
        "spark = SparkSession.builder \\\n",
        "    .appName(\"Auxilio Emergencial\") \\\n",
        "    .master(\"local\") \\\n",
        "    .getOrCreate()"
      ],
      "metadata": {
        "id": "gFO-PbrqERPS"
      },
      "execution_count": 5,
      "outputs": []
    },
    {
      "cell_type": "markdown",
      "source": [
        "Verificar o nome da aplicação (opcional)"
      ],
      "metadata": {
        "id": "ePrLj-ohScx_"
      }
    },
    {
      "cell_type": "code",
      "source": [
        "print(spark.sparkContext.appName)"
      ],
      "metadata": {
        "colab": {
          "base_uri": "https://localhost:8080/"
        },
        "id": "zALexsKnPB4m",
        "outputId": "e3d51119-0b4a-45dc-a7c0-2c517ea218dd"
      },
      "execution_count": 6,
      "outputs": [
        {
          "output_type": "stream",
          "name": "stdout",
          "text": [
            "Auxilio Emergencial\n"
          ]
        }
      ]
    },
    {
      "cell_type": "markdown",
      "source": [
        "# Carregar os dados"
      ],
      "metadata": {
        "id": "DTUFnnM_w90d"
      }
    },
    {
      "cell_type": "markdown",
      "source": [
        "Ler o arquivo CSV usando DataFrame"
      ],
      "metadata": {
        "id": "om70ypUTSnb4"
      }
    },
    {
      "cell_type": "code",
      "source": [
        "municipio_df = spark.read.csv(\"POP2022_Municipios_20230622.csv\",sep=';', header=True, inferSchema=True)\n",
        "auxilio_df = spark.read.csv(\"auxilio_emergencial.csv\",sep=',', header=True, inferSchema=True)\n",
        "joined_df = auxilio_df.join(municipio_df, auxilio_df[\"uf\"] == municipio_df[\"uf\"])"
      ],
      "metadata": {
        "id": "vvlv0qKxN9lA"
      },
      "execution_count": 8,
      "outputs": []
    },
    {
      "cell_type": "markdown",
      "source": [
        "Mostrar as primeiras 5 linhas do DataFrame"
      ],
      "metadata": {
        "id": "PJAOObDxSvfh"
      }
    },
    {
      "cell_type": "code",
      "source": [
        "municipio_df.show(5)\n",
        "auxilio_df.show(5)"
      ],
      "metadata": {
        "colab": {
          "base_uri": "https://localhost:8080/"
        },
        "id": "IM2gYG9cO1d6",
        "outputId": "8bac3563-ac03-4edf-f0a8-510dbb033ddf"
      },
      "execution_count": 9,
      "outputs": [
        {
          "output_type": "stream",
          "name": "stdout",
          "text": [
            "+---+-------+----------+--------------------+-----------+\n",
            "| UF|COD. UF|COD. MUNIC|   NOME DO MUNICÍPIO| POPULAÇÃO |\n",
            "+---+-------+----------+--------------------+-----------+\n",
            "| RO|     11|        15|Alta Floresta D'O...|    21.558 |\n",
            "| RO|     11|        23|           Ariquemes|   100.896 |\n",
            "| RO|     11|        31|              Cabixi|     5.107 |\n",
            "| RO|     11|        49|              Cacoal|    92.202 |\n",
            "| RO|     11|        56|          Cerejeiras|    15.237 |\n",
            "+---+-------+----------+--------------------+-----------+\n",
            "only showing top 5 rows\n",
            "\n",
            "+-------+----+---------------------+---------+----------------+----------------+--------------------+---------------+---------------+-----------+-------------+-------+----------+-----+\n",
            "|ano_mes|  uf|codigo_ibge_municipio|municipio|nis_beneficiario|cpf_beneficiario|        beneficiario|nis_responsavel|cpf_responsavel|responsavel|enquadramento|parcela|observacao|valor|\n",
            "+-------+----+---------------------+---------+----------------+----------------+--------------------+---------------+---------------+-----------+-------------+-------+----------+-----+\n",
            "| 202004|NULL|                 NULL|     NULL|            NULL|     ***832922**|ALICE CILENE DE O...|             -2|           NULL|       NULL|  EXTRA CADUN|      1|      NULL|600.0|\n",
            "| 202004|NULL|                 NULL|     NULL|            NULL|     ***208119**|APARICIO LINHARES...|             -2|           NULL|       NULL|  EXTRA CADUN|      1|      NULL|600.0|\n",
            "| 202004|NULL|                 NULL|     NULL|            NULL|     ***884918**|CELIA APARECIDA D...|             -2|           NULL|       NULL|  EXTRA CADUN|      1|      NULL|600.0|\n",
            "| 202004|NULL|                 NULL|     NULL|            NULL|     ***899219**|CERES MARLIZE WAV...|             -2|           NULL|       NULL|  EXTRA CADUN|      1|      NULL|600.0|\n",
            "| 202004|NULL|                 NULL|     NULL|            NULL|     ***904623**|CLEODON BORGES DA...|             -2|           NULL|       NULL|  EXTRA CADUN|      1|      NULL|600.0|\n",
            "+-------+----+---------------------+---------+----------------+----------------+--------------------+---------------+---------------+-----------+-------------+-------+----------+-----+\n",
            "only showing top 5 rows\n",
            "\n"
          ]
        }
      ]
    },
    {
      "cell_type": "markdown",
      "source": [
        "Converter DataFrame para RDD"
      ],
      "metadata": {
        "id": "2PawEtn1S8ZZ"
      }
    },
    {
      "cell_type": "code",
      "source": [
        "municipio_rdd = municipio_df.rdd\n",
        "auxilio_rdd = auxilio_df.rdd"
      ],
      "metadata": {
        "id": "wMtxhS9wQBYn"
      },
      "execution_count": 10,
      "outputs": []
    },
    {
      "cell_type": "markdown",
      "source": [
        "Mostrar as primeiras linhas do RDD"
      ],
      "metadata": {
        "id": "J_vQB3AKTLzx"
      }
    },
    {
      "cell_type": "code",
      "source": [
        "municipio_rdd.take(5)\n",
        "auxilio_rdd.take(5)"
      ],
      "metadata": {
        "colab": {
          "base_uri": "https://localhost:8080/"
        },
        "id": "dw5mHBJ3QCII",
        "outputId": "25307b36-9383-4dee-d8d9-4bbaece3c77c"
      },
      "execution_count": 11,
      "outputs": [
        {
          "output_type": "execute_result",
          "data": {
            "text/plain": [
              "[Row(ano_mes=202004, uf=None, codigo_ibge_municipio=None, municipio=None, nis_beneficiario=None, cpf_beneficiario='***832922**', beneficiario='ALICE CILENE DE OLIVEIRA DIAS', nis_responsavel=-2, cpf_responsavel=None, responsavel=None, enquadramento='EXTRA CADUN', parcela=1, observacao=None, valor=600.0),\n",
              " Row(ano_mes=202004, uf=None, codigo_ibge_municipio=None, municipio=None, nis_beneficiario=None, cpf_beneficiario='***208119**', beneficiario='APARICIO LINHARES LOUZADA', nis_responsavel=-2, cpf_responsavel=None, responsavel=None, enquadramento='EXTRA CADUN', parcela=1, observacao=None, valor=600.0),\n",
              " Row(ano_mes=202004, uf=None, codigo_ibge_municipio=None, municipio=None, nis_beneficiario=None, cpf_beneficiario='***884918**', beneficiario='CELIA APARECIDA DE SOUZA', nis_responsavel=-2, cpf_responsavel=None, responsavel=None, enquadramento='EXTRA CADUN', parcela=1, observacao=None, valor=600.0),\n",
              " Row(ano_mes=202004, uf=None, codigo_ibge_municipio=None, municipio=None, nis_beneficiario=None, cpf_beneficiario='***899219**', beneficiario='CERES MARLIZE WAVRITA', nis_responsavel=-2, cpf_responsavel=None, responsavel=None, enquadramento='EXTRA CADUN', parcela=1, observacao=None, valor=600.0),\n",
              " Row(ano_mes=202004, uf=None, codigo_ibge_municipio=None, municipio=None, nis_beneficiario=None, cpf_beneficiario='***904623**', beneficiario='CLEODON BORGES DA SILVA', nis_responsavel=-2, cpf_responsavel=None, responsavel=None, enquadramento='EXTRA CADUN', parcela=1, observacao=None, valor=600.0)]"
            ]
          },
          "metadata": {},
          "execution_count": 11
        }
      ]
    },
    {
      "cell_type": "markdown",
      "source": [
        "# Perguntas do projeto Hadoop usando PySpark"
      ],
      "metadata": {
        "id": "h3sgfZLqxHoX"
      }
    },
    {
      "cell_type": "markdown",
      "source": [
        "1- Qual é o total de auxílio emergencial distribuído em cada município? (Valor total x UF)"
      ],
      "metadata": {
        "id": "EzdLpbp7vyGV"
      }
    },
    {
      "cell_type": "code",
      "source": [
        "auxilio_por_uf = auxilio_df.groupBy(\"uf\").agg({\"valor\": \"sum\"}).withColumnRenamed(\"sum(valor)\", \"total_auxilio\")\n",
        "\n",
        "auxilio_por_uf.show(n=auxilio_por_uf.count(), truncate=False)"
      ],
      "metadata": {
        "colab": {
          "base_uri": "https://localhost:8080/"
        },
        "id": "QRnm9guIQB-S",
        "outputId": "bb8f045b-a073-46eb-a573-4d02b16a08ea"
      },
      "execution_count": 12,
      "outputs": [
        {
          "output_type": "stream",
          "name": "stdout",
          "text": [
            "+----+-------------+\n",
            "|uf  |total_auxilio|\n",
            "+----+-------------+\n",
            "|NULL|247800.0     |\n",
            "|AL  |3.7236192E9  |\n",
            "|AC  |9.316482E8   |\n",
            "|AM  |4.4732892E9  |\n",
            "|BA  |1.70635566E10|\n",
            "|AP  |9.52971E8    |\n",
            "|CE  |1.02217854E10|\n",
            "|ES  |3.2871432E9  |\n",
            "|DF  |1.9446858E9  |\n",
            "|GO  |5.8288482E9  |\n",
            "|MA  |8.2498932E9  |\n",
            "|MG  |1.6283049E10 |\n",
            "|MT  |2.9414358E9  |\n",
            "|MS  |2.2079406E9  |\n",
            "|PA  |9.8359806E9  |\n",
            "|PB  |4.5076518E9  |\n",
            "|PE  |1.07698908E10|\n",
            "|PI  |3.9194124E9  |\n",
            "|PR  |7.898199E9   |\n",
            "|RJ  |1.48293744E10|\n",
            "|RN  |3.678657E9   |\n",
            "|RO  |1.5636414E9  |\n",
            "|RR  |6.479202E8   |\n",
            "|RS  |6.877362E9   |\n",
            "|SC  |3.926445E9   |\n",
            "|SE  |2.5983708E9  |\n",
            "|SP  |3.1680576E10 |\n",
            "|TO  |1.4666646E9  |\n",
            "+----+-------------+\n",
            "\n"
          ]
        }
      ]
    },
    {
      "cell_type": "markdown",
      "source": [
        "2- Qual a total de população por UF? (UF x Qtd pessoa)"
      ],
      "metadata": {
        "id": "SO8KMIDov3cU"
      }
    },
    {
      "cell_type": "code",
      "source": [
        "populacao_por_uf = municipio_df.groupBy(\"uf\").agg({\" POPULAÇÃO \": \"sum\"}).withColumnRenamed(\"sum( POPULAÇÃO )\", \"total_pessoa\")\n",
        "\n",
        "populacao_por_uf.show(n=populacao_por_uf.count(), truncate=False)"
      ],
      "metadata": {
        "colab": {
          "base_uri": "https://localhost:8080/"
        },
        "id": "_6CzI6THQB3a",
        "outputId": "eff08e7b-4cf4-4832-e78e-a9a0d3dcce3d"
      },
      "execution_count": 13,
      "outputs": [
        {
          "output_type": "stream",
          "name": "stdout",
          "text": [
            "+---+------------------+\n",
            "|uf |total_pessoa      |\n",
            "+---+------------------+\n",
            "|SC |7762.1539999999995|\n",
            "|RO |1616.3790000000004|\n",
            "|PI |3270.173999999999 |\n",
            "|AM |1897.531          |\n",
            "|RR |634.805           |\n",
            "|GO |6462.566000000001 |\n",
            "|TO |1584.3060000000003|\n",
            "|MT |4781.240999999998 |\n",
            "|SP |32147.36100000001 |\n",
            "|PB |4030.9610000000016|\n",
            "|ES |3975.1            |\n",
            "|RS |9683.796          |\n",
            "|MS |2833.7419999999993|\n",
            "|AL |3125.2539999999995|\n",
            "|MG |19175.14599999998 |\n",
            "|PA |7075.626000000004 |\n",
            "|BA |12048.036000000006|\n",
            "|SE |2211.867999999999 |\n",
            "|PE |7556.527          |\n",
            "|CE |6340.273999999999 |\n",
            "|RN |3303.9530000000013|\n",
            "|RJ |9989.677          |\n",
            "|MA |5739.231000000001 |\n",
            "|AC |829.7800000000001 |\n",
            "|DF |NULL              |\n",
            "|PR |9963.589999999995 |\n",
            "|AP |774.268           |\n",
            "+---+------------------+\n",
            "\n"
          ]
        }
      ]
    },
    {
      "cell_type": "markdown",
      "source": [
        "3- Valor médio do auxilio por pessoa em cada uf? (Valor total/Total poupulacao x Uf)"
      ],
      "metadata": {
        "id": "ozzMoXTKv6kx"
      }
    },
    {
      "cell_type": "code",
      "source": [
        "medio_pessoa_uf = joined_df.groupBy(\"a.uf\", \"m.qtd_populacao\") \\ .agg((F.sum(\"a.valor\") / F.col(\"m.qtd_populacao\")).alias(\"valor_medio_por_pessoa\"))\n",
        "\n",
        "medio_pessoa_uf.show(n=medio_pessoa_uf.count(), truncate=False)"
      ],
      "metadata": {
        "id": "Kwzz4XkQv8S6"
      },
      "execution_count": null,
      "outputs": []
    },
    {
      "cell_type": "markdown",
      "source": [
        "4- Quantidade de vezes recebido o auxilio por uf? (Parcela x Uf)"
      ],
      "metadata": {
        "id": "AN1PKhGvv-Rf"
      }
    },
    {
      "cell_type": "code",
      "source": [
        "qtd_auxilio_uf = auxilio_df.groupBy(\"uf\") \\ .agg(F.count(\"parcela\").alias(\"total_parcelas\"))\n",
        "\n",
        "qtd_auxilio_uf.show(n=qtd_auxilio_uf.count(), truncate=False)"
      ],
      "metadata": {
        "id": "kSpQOcsmv_yD"
      },
      "execution_count": null,
      "outputs": []
    },
    {
      "cell_type": "markdown",
      "source": [
        "5- Quais os nomes que mais se repetem que receberam auxilio? (Qtd nome)"
      ],
      "metadata": {
        "id": "NiJiMcCSwDkl"
      }
    },
    {
      "cell_type": "code",
      "source": [
        "mes_repetido = auxilio_df.groupBy(\"beneficiario\") \\\n",
        "    .agg(F.count(\"*\").alias(\"qtd_nome\")) \\\n",
        "    .orderBy(F.col(\"qtd_nome\").desc()) \\\n",
        "    .limit(10)\n",
        "\n",
        "mes_repetido.show(n=mes_repetido.count(), truncate=False)"
      ],
      "metadata": {
        "id": "7M6kv6S8wH_b"
      },
      "execution_count": null,
      "outputs": []
    },
    {
      "cell_type": "markdown",
      "source": [
        "# Perguntas Extras"
      ],
      "metadata": {
        "id": "iZ9Gxt-2wKIT"
      }
    },
    {
      "cell_type": "markdown",
      "source": [
        "6- Beneficiários com maior quantidade de valor recebido (Pessoa x valor)"
      ],
      "metadata": {
        "id": "j_7kXJ09wMdZ"
      }
    },
    {
      "cell_type": "code",
      "source": [
        "beneficiarios_valor_df = auxilio_emergencial.groupBy(\"beneficiario\") \\\n",
        "    .agg(F.sum(\"valor\").alias(\"total_valor_recebido\")) \\\n",
        "    .orderBy(F.col(\"total_valor_recebido\").desc()) \\\n",
        "    .limit(10)\n",
        "\n",
        "beneficiarios_valor_df.show(n=beneficiarios_valor_df.count(), truncate=False)"
      ],
      "metadata": {
        "id": "tr0poB65wOV5"
      },
      "execution_count": null,
      "outputs": []
    },
    {
      "cell_type": "markdown",
      "source": [
        "7- Quantidade de auxilio distribuido por mês (ano_mes x qtd_parcela)"
      ],
      "metadata": {
        "id": "vVXAOEOowS77"
      }
    },
    {
      "cell_type": "code",
      "source": [
        "auxilio_por_mes_df = auxilio_emergencial.groupBy(\"ano_mes\") \\\n",
        "    .agg(F.count(\"parcela\").alias(\"qtd_parcelas\")) \\\n",
        "    .orderBy(\"ano_mes\")\n",
        "\n",
        "auxilio_por_mes_df.show(n=auxilio_por_mes_df.count(), truncate=False)"
      ],
      "metadata": {
        "id": "IgI4I1vkwQxg"
      },
      "execution_count": null,
      "outputs": []
    }
  ]
}