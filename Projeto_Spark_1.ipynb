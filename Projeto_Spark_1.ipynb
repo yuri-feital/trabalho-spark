{
  "cells": [
    {
      "cell_type": "markdown",
      "metadata": {
        "id": "qyPs-61dV9BU"
      },
      "source": [
        "#Importando arquivo do Drive"
      ]
    },
    {
      "cell_type": "markdown",
      "metadata": {
        "id": "uXMwQvqwwntj"
      },
      "source": [
        "Acessar Drive"
      ]
    },
    {
      "cell_type": "code",
      "execution_count": 1,
      "metadata": {
        "colab": {
          "base_uri": "https://localhost:8080/"
        },
        "id": "gXnRMc9WV8n2",
        "outputId": "3c24e281-b6a2-46c9-ce07-13e0e5521320"
      },
      "outputs": [
        {
          "name": "stdout",
          "output_type": "stream",
          "text": [
            "Mounted at /content/drive\n"
          ]
        }
      ],
      "source": [
        "from google.colab import drive\n",
        "drive.mount('/content/drive')"
      ]
    },
    {
      "cell_type": "markdown",
      "metadata": {
        "id": "y-LYVMf3wqHu"
      },
      "source": [
        "Acessar Pasta das Bases"
      ]
    },
    {
      "cell_type": "code",
      "execution_count": 2,
      "metadata": {
        "id": "gleCLUNEWKtK"
      },
      "outputs": [],
      "source": [
        "import os\n",
        "os.chdir(\"/content/drive/MyDrive/MIT_Infnet/Aula_Hadoop/Projeto\")"
      ]
    },
    {
      "cell_type": "markdown",
      "metadata": {
        "id": "sENMASyJEXMC"
      },
      "source": [
        "#Configuração do ambiente PySpark"
      ]
    },
    {
      "cell_type": "markdown",
      "metadata": {
        "id": "gReXyx8AwyYs"
      },
      "source": [
        "Instalar PySpark"
      ]
    },
    {
      "cell_type": "code",
      "execution_count": 3,
      "metadata": {
        "colab": {
          "base_uri": "https://localhost:8080/"
        },
        "id": "d3GcnGaEEIzo",
        "outputId": "72810fde-cad8-4f77-e499-dade9210830f"
      },
      "outputs": [
        {
          "name": "stdout",
          "output_type": "stream",
          "text": [
            "Collecting pyspark\n",
            "  Downloading pyspark-3.5.3.tar.gz (317.3 MB)\n",
            "\u001b[2K     \u001b[90m━━━━━━━━━━━━━━━━━━━━━━━━━━━━━━━━━━━━━━━━\u001b[0m \u001b[32m317.3/317.3 MB\u001b[0m \u001b[31m1.4 MB/s\u001b[0m eta \u001b[36m0:00:00\u001b[0m\n",
            "\u001b[?25h  Preparing metadata (setup.py) ... \u001b[?25l\u001b[?25hdone\n",
            "Requirement already satisfied: py4j==0.10.9.7 in /usr/local/lib/python3.10/dist-packages (from pyspark) (0.10.9.7)\n",
            "Building wheels for collected packages: pyspark\n",
            "  Building wheel for pyspark (setup.py) ... \u001b[?25l\u001b[?25hdone\n",
            "  Created wheel for pyspark: filename=pyspark-3.5.3-py2.py3-none-any.whl size=317840625 sha256=4130c4a6d6d9610bc03b87cc4be9df53f5cec516caad01ed2dbec5237396b915\n",
            "  Stored in directory: /root/.cache/pip/wheels/1b/3a/92/28b93e2fbfdbb07509ca4d6f50c5e407f48dce4ddbda69a4ab\n",
            "Successfully built pyspark\n",
            "Installing collected packages: pyspark\n",
            "Successfully installed pyspark-3.5.3\n"
          ]
        }
      ],
      "source": [
        "!pip install pyspark"
      ]
    },
    {
      "cell_type": "markdown",
      "metadata": {
        "id": "h6kUp8ARESA1"
      },
      "source": [
        "Importar SparkSession ao invés de SparkContext diretamente para trabalhar com DataFrames"
      ]
    },
    {
      "cell_type": "code",
      "execution_count": 20,
      "metadata": {
        "id": "QEazfoPDSJ6N"
      },
      "outputs": [],
      "source": [
        "from pyspark.sql import SparkSession\n",
        "\n",
        "from pyspark.sql import functions as F\n"
      ]
    },
    {
      "cell_type": "markdown",
      "metadata": {
        "id": "V09MGk4aSYfU"
      },
      "source": [
        "Criar a SparkSession"
      ]
    },
    {
      "cell_type": "code",
      "execution_count": 5,
      "metadata": {
        "id": "gFO-PbrqERPS"
      },
      "outputs": [],
      "source": [
        "spark = SparkSession.builder \\\n",
        "    .appName(\"Auxilio Emergencial\") \\\n",
        "    .master(\"local\") \\\n",
        "    .getOrCreate()"
      ]
    },
    {
      "cell_type": "markdown",
      "metadata": {
        "id": "ePrLj-ohScx_"
      },
      "source": [
        "Verificar o nome da aplicação (opcional)"
      ]
    },
    {
      "cell_type": "code",
      "execution_count": 6,
      "metadata": {
        "colab": {
          "base_uri": "https://localhost:8080/"
        },
        "id": "zALexsKnPB4m",
        "outputId": "e3d51119-0b4a-45dc-a7c0-2c517ea218dd"
      },
      "outputs": [
        {
          "name": "stdout",
          "output_type": "stream",
          "text": [
            "Auxilio Emergencial\n"
          ]
        }
      ],
      "source": [
        "print(spark.sparkContext.appName)"
      ]
    },
    {
      "cell_type": "markdown",
      "metadata": {
        "id": "DTUFnnM_w90d"
      },
      "source": [
        "# Carregar os dados"
      ]
    },
    {
      "cell_type": "markdown",
      "metadata": {
        "id": "om70ypUTSnb4"
      },
      "source": [
        "Ler o arquivo CSV usando DataFrame"
      ]
    },
    {
      "cell_type": "code",
      "execution_count": 8,
      "metadata": {
        "id": "vvlv0qKxN9lA"
      },
      "outputs": [],
      "source": [
        "municipio_df = spark.read.csv(\"POP2022_Municipios_20230622.csv\",sep=';', header=True, inferSchema=True)\n",
        "auxilio_df = spark.read.csv(\"auxilio_emergencial.csv\",sep=',', header=True, inferSchema=True)"
      ]
    },
    {
      "cell_type": "code",
      "execution_count": 32,
      "metadata": {
        "id": "ovOaymm_FrTd"
      },
      "outputs": [],
      "source": [
        "municipio_df = municipio_df.withColumnRenamed(\"UF\", \"uf_municipio\")\n",
        "\n",
        "joined_df = auxilio_df.join(municipio_df, auxilio_df[\"uf\"] == municipio_df[\"uf_municipio\"])"
      ]
    },
    {
      "cell_type": "markdown",
      "metadata": {
        "id": "PJAOObDxSvfh"
      },
      "source": [
        "Mostrar as primeiras 5 linhas do DataFrame"
      ]
    },
    {
      "cell_type": "code",
      "execution_count": 33,
      "metadata": {
        "colab": {
          "base_uri": "https://localhost:8080/"
        },
        "id": "IM2gYG9cO1d6",
        "outputId": "2418453e-0835-4186-dfea-78d5a81cded5"
      },
      "outputs": [
        {
          "name": "stdout",
          "output_type": "stream",
          "text": [
            "+------------+-------+----------+--------------------+-----------+\n",
            "|uf_municipio|COD. UF|COD. MUNIC|   NOME DO MUNICÍPIO| POPULAÇÃO |\n",
            "+------------+-------+----------+--------------------+-----------+\n",
            "|          RO|     11|        15|Alta Floresta D'O...|    21.558 |\n",
            "|          RO|     11|        23|           Ariquemes|   100.896 |\n",
            "|          RO|     11|        31|              Cabixi|     5.107 |\n",
            "|          RO|     11|        49|              Cacoal|    92.202 |\n",
            "|          RO|     11|        56|          Cerejeiras|    15.237 |\n",
            "+------------+-------+----------+--------------------+-----------+\n",
            "only showing top 5 rows\n",
            "\n",
            "+-------+----+---------------------+---------+----------------+----------------+--------------------+---------------+---------------+-----------+-------------+-------+----------+-----+\n",
            "|ano_mes|  uf|codigo_ibge_municipio|municipio|nis_beneficiario|cpf_beneficiario|        beneficiario|nis_responsavel|cpf_responsavel|responsavel|enquadramento|parcela|observacao|valor|\n",
            "+-------+----+---------------------+---------+----------------+----------------+--------------------+---------------+---------------+-----------+-------------+-------+----------+-----+\n",
            "| 202004|NULL|                 NULL|     NULL|            NULL|     ***832922**|ALICE CILENE DE O...|             -2|           NULL|       NULL|  EXTRA CADUN|      1|      NULL|600.0|\n",
            "| 202004|NULL|                 NULL|     NULL|            NULL|     ***208119**|APARICIO LINHARES...|             -2|           NULL|       NULL|  EXTRA CADUN|      1|      NULL|600.0|\n",
            "| 202004|NULL|                 NULL|     NULL|            NULL|     ***884918**|CELIA APARECIDA D...|             -2|           NULL|       NULL|  EXTRA CADUN|      1|      NULL|600.0|\n",
            "| 202004|NULL|                 NULL|     NULL|            NULL|     ***899219**|CERES MARLIZE WAV...|             -2|           NULL|       NULL|  EXTRA CADUN|      1|      NULL|600.0|\n",
            "| 202004|NULL|                 NULL|     NULL|            NULL|     ***904623**|CLEODON BORGES DA...|             -2|           NULL|       NULL|  EXTRA CADUN|      1|      NULL|600.0|\n",
            "+-------+----+---------------------+---------+----------------+----------------+--------------------+---------------+---------------+-----------+-------------+-------+----------+-----+\n",
            "only showing top 5 rows\n",
            "\n",
            "+-------+---+---------------------+----------+----------------+----------------+-------------+---------------+---------------+-----------+-------------+-------+----------+-----+------------+-------+----------+-----------------+-----------+\n",
            "|ano_mes| uf|codigo_ibge_municipio| municipio|nis_beneficiario|cpf_beneficiario| beneficiario|nis_responsavel|cpf_responsavel|responsavel|enquadramento|parcela|observacao|valor|uf_municipio|COD. UF|COD. MUNIC|NOME DO MUNICÍPIO| POPULAÇÃO |\n",
            "+-------+---+---------------------+----------+----------------+----------------+-------------+---------------+---------------+-----------+-------------+-------+----------+-----+------------+-------+----------+-----------------+-----------+\n",
            "| 202004| AC|              1200013|Acrelândia|            NULL|     ***892435**|ABEDI MANANGA|             -2|           NULL|       NULL|  EXTRA CADUN|      1|      NULL|600.0|          AC|     12|       807|       Porto Acre|    16.218 |\n",
            "| 202004| AC|              1200013|Acrelândia|            NULL|     ***892435**|ABEDI MANANGA|             -2|           NULL|       NULL|  EXTRA CADUN|      1|      NULL|600.0|          AC|     12|       708|           Xapuri|    18.181 |\n",
            "| 202004| AC|              1200013|Acrelândia|            NULL|     ***892435**|ABEDI MANANGA|             -2|           NULL|       NULL|  EXTRA CADUN|      1|      NULL|600.0|          AC|     12|       609|         Tarauacá|    43.072 |\n",
            "| 202004| AC|              1200013|Acrelândia|            NULL|     ***892435**|ABEDI MANANGA|             -2|           NULL|       NULL|  EXTRA CADUN|      1|      NULL|600.0|          AC|     12|       500|   Sena Madureira|    39.746 |\n",
            "| 202004| AC|              1200013|Acrelândia|            NULL|     ***892435**|ABEDI MANANGA|             -2|           NULL|       NULL|  EXTRA CADUN|      1|      NULL|600.0|          AC|     12|       450| Senador Guiomard|    21.658 |\n",
            "+-------+---+---------------------+----------+----------------+----------------+-------------+---------------+---------------+-----------+-------------+-------+----------+-----+------------+-------+----------+-----------------+-----------+\n",
            "only showing top 5 rows\n",
            "\n"
          ]
        }
      ],
      "source": [
        "municipio_df.show(5)\n",
        "auxilio_df.show(5)\n",
        "joined_df.show(5)"
      ]
    },
    {
      "cell_type": "markdown",
      "metadata": {
        "id": "2PawEtn1S8ZZ"
      },
      "source": [
        "Converter DataFrame para RDD"
      ]
    },
    {
      "cell_type": "code",
      "execution_count": 10,
      "metadata": {
        "id": "wMtxhS9wQBYn"
      },
      "outputs": [],
      "source": [
        "municipio_rdd = municipio_df.rdd\n",
        "auxilio_rdd = auxilio_df.rdd"
      ]
    },
    {
      "cell_type": "markdown",
      "metadata": {
        "id": "J_vQB3AKTLzx"
      },
      "source": [
        "Mostrar as primeiras linhas do RDD"
      ]
    },
    {
      "cell_type": "code",
      "execution_count": 11,
      "metadata": {
        "colab": {
          "base_uri": "https://localhost:8080/"
        },
        "id": "dw5mHBJ3QCII",
        "outputId": "25307b36-9383-4dee-d8d9-4bbaece3c77c"
      },
      "outputs": [
        {
          "data": {
            "text/plain": [
              "[Row(ano_mes=202004, uf=None, codigo_ibge_municipio=None, municipio=None, nis_beneficiario=None, cpf_beneficiario='***832922**', beneficiario='ALICE CILENE DE OLIVEIRA DIAS', nis_responsavel=-2, cpf_responsavel=None, responsavel=None, enquadramento='EXTRA CADUN', parcela=1, observacao=None, valor=600.0),\n",
              " Row(ano_mes=202004, uf=None, codigo_ibge_municipio=None, municipio=None, nis_beneficiario=None, cpf_beneficiario='***208119**', beneficiario='APARICIO LINHARES LOUZADA', nis_responsavel=-2, cpf_responsavel=None, responsavel=None, enquadramento='EXTRA CADUN', parcela=1, observacao=None, valor=600.0),\n",
              " Row(ano_mes=202004, uf=None, codigo_ibge_municipio=None, municipio=None, nis_beneficiario=None, cpf_beneficiario='***884918**', beneficiario='CELIA APARECIDA DE SOUZA', nis_responsavel=-2, cpf_responsavel=None, responsavel=None, enquadramento='EXTRA CADUN', parcela=1, observacao=None, valor=600.0),\n",
              " Row(ano_mes=202004, uf=None, codigo_ibge_municipio=None, municipio=None, nis_beneficiario=None, cpf_beneficiario='***899219**', beneficiario='CERES MARLIZE WAVRITA', nis_responsavel=-2, cpf_responsavel=None, responsavel=None, enquadramento='EXTRA CADUN', parcela=1, observacao=None, valor=600.0),\n",
              " Row(ano_mes=202004, uf=None, codigo_ibge_municipio=None, municipio=None, nis_beneficiario=None, cpf_beneficiario='***904623**', beneficiario='CLEODON BORGES DA SILVA', nis_responsavel=-2, cpf_responsavel=None, responsavel=None, enquadramento='EXTRA CADUN', parcela=1, observacao=None, valor=600.0)]"
            ]
          },
          "execution_count": 11,
          "metadata": {},
          "output_type": "execute_result"
        }
      ],
      "source": [
        "municipio_rdd.take(5)\n",
        "auxilio_rdd.take(5)"
      ]
    },
    {
      "cell_type": "markdown",
      "metadata": {
        "id": "h3sgfZLqxHoX"
      },
      "source": [
        "# Perguntas do projeto Hadoop usando PySpark"
      ]
    },
    {
      "cell_type": "markdown",
      "metadata": {
        "id": "EzdLpbp7vyGV"
      },
      "source": [
        "1- Qual é o total de auxílio emergencial distribuído em cada município? (Valor total x UF)"
      ]
    },
    {
      "cell_type": "code",
      "execution_count": 12,
      "metadata": {
        "colab": {
          "base_uri": "https://localhost:8080/"
        },
        "id": "QRnm9guIQB-S",
        "outputId": "bb8f045b-a073-46eb-a573-4d02b16a08ea"
      },
      "outputs": [
        {
          "name": "stdout",
          "output_type": "stream",
          "text": [
            "+----+-------------+\n",
            "|uf  |total_auxilio|\n",
            "+----+-------------+\n",
            "|NULL|247800.0     |\n",
            "|AL  |3.7236192E9  |\n",
            "|AC  |9.316482E8   |\n",
            "|AM  |4.4732892E9  |\n",
            "|BA  |1.70635566E10|\n",
            "|AP  |9.52971E8    |\n",
            "|CE  |1.02217854E10|\n",
            "|ES  |3.2871432E9  |\n",
            "|DF  |1.9446858E9  |\n",
            "|GO  |5.8288482E9  |\n",
            "|MA  |8.2498932E9  |\n",
            "|MG  |1.6283049E10 |\n",
            "|MT  |2.9414358E9  |\n",
            "|MS  |2.2079406E9  |\n",
            "|PA  |9.8359806E9  |\n",
            "|PB  |4.5076518E9  |\n",
            "|PE  |1.07698908E10|\n",
            "|PI  |3.9194124E9  |\n",
            "|PR  |7.898199E9   |\n",
            "|RJ  |1.48293744E10|\n",
            "|RN  |3.678657E9   |\n",
            "|RO  |1.5636414E9  |\n",
            "|RR  |6.479202E8   |\n",
            "|RS  |6.877362E9   |\n",
            "|SC  |3.926445E9   |\n",
            "|SE  |2.5983708E9  |\n",
            "|SP  |3.1680576E10 |\n",
            "|TO  |1.4666646E9  |\n",
            "+----+-------------+\n",
            "\n"
          ]
        }
      ],
      "source": [
        "auxilio_por_uf = auxilio_df.groupBy(\"uf\").agg({\"valor\": \"sum\"}).withColumnRenamed(\"sum(valor)\", \"total_auxilio\")\n",
        "\n",
        "auxilio_por_uf.show(n=auxilio_por_uf.count(), truncate=False)"
      ]
    },
    {
      "cell_type": "markdown",
      "metadata": {
        "id": "SO8KMIDov3cU"
      },
      "source": [
        "2- Qual a total de população por UF? (UF x Qtd pessoa)"
      ]
    },
    {
      "cell_type": "code",
      "execution_count": 14,
      "metadata": {
        "colab": {
          "base_uri": "https://localhost:8080/"
        },
        "id": "_6CzI6THQB3a",
        "outputId": "9c1d9e6e-c171-4972-b089-85bc9298910f"
      },
      "outputs": [
        {
          "name": "stdout",
          "output_type": "stream",
          "text": [
            "+---+------------------+\n",
            "|uf |total_pessoa      |\n",
            "+---+------------------+\n",
            "|SC |7762.1539999999995|\n",
            "|RO |1616.3790000000004|\n",
            "|PI |3270.173999999999 |\n",
            "|AM |1897.531          |\n",
            "|RR |634.805           |\n",
            "|GO |6462.566000000001 |\n",
            "|TO |1584.3060000000003|\n",
            "|MT |4781.240999999998 |\n",
            "|SP |32147.36100000001 |\n",
            "|PB |4030.9610000000016|\n",
            "|ES |3975.1            |\n",
            "|RS |9683.796          |\n",
            "|MS |2833.7419999999993|\n",
            "|AL |3125.2539999999995|\n",
            "|MG |19175.14599999998 |\n",
            "|PA |7075.626000000004 |\n",
            "|BA |12048.036000000006|\n",
            "|SE |2211.867999999999 |\n",
            "|PE |7556.527          |\n",
            "|CE |6340.273999999999 |\n",
            "|RN |3303.9530000000013|\n",
            "|RJ |9989.677          |\n",
            "|MA |5739.231000000001 |\n",
            "|AC |829.7800000000001 |\n",
            "|DF |NULL              |\n",
            "|PR |9963.589999999995 |\n",
            "|AP |774.268           |\n",
            "+---+------------------+\n",
            "\n"
          ]
        }
      ],
      "source": [
        "populacao_por_uf = municipio_df.groupBy(\"uf\").agg({\" POPULAÇÃO \": \"sum\"}).withColumnRenamed(\"sum( POPULAÇÃO )\", \"total_pessoa\")\n",
        "\n",
        "populacao_por_uf.show(n=populacao_por_uf.count(), truncate=False)"
      ]
    },
    {
      "cell_type": "markdown",
      "metadata": {
        "id": "ozzMoXTKv6kx"
      },
      "source": [
        "3- Valor médio do auxilio por pessoa em cada uf? (Valor total/Total poupulacao x Uf)"
      ]
    },
    {
      "cell_type": "code",
      "execution_count": null,
      "metadata": {
        "id": "Kwzz4XkQv8S6"
      },
      "outputs": [],
      "source": [
        "medio_pessoa_uf = joined_df.groupBy(\"uf\") \\\n",
        "    .agg((F.sum(\"valor\") / F.first(\" POPULAÇÃO \")).alias(\"valor_medio_por_pessoa\"))\n",
        "\n",
        "medio_pessoa_uf.show(n=medio_pessoa_uf.count(), truncate=False)"
      ]
    },
    {
      "cell_type": "markdown",
      "metadata": {
        "id": "AN1PKhGvv-Rf"
      },
      "source": [
        "4- Quantidade de vezes recebido o auxilio por uf? (Parcela x Uf)"
      ]
    },
    {
      "cell_type": "code",
      "execution_count": null,
      "metadata": {
        "id": "kSpQOcsmv_yD"
      },
      "outputs": [],
      "source": [
        "qtd_auxilio_uf = auxilio_df.groupBy(\"uf\") \\ .agg(F.count(\"parcela\").alias(\"total_parcelas\"))\n",
        "\n",
        "qtd_auxilio_uf.show(n=qtd_auxilio_uf.count(), truncate=False)"
      ]
    },
    {
      "cell_type": "markdown",
      "metadata": {
        "id": "NiJiMcCSwDkl"
      },
      "source": [
        "5- Quais os nomes que mais se repetem que receberam auxilio? (Qtd nome)"
      ]
    },
    {
      "cell_type": "code",
      "execution_count": null,
      "metadata": {
        "id": "7M6kv6S8wH_b"
      },
      "outputs": [],
      "source": [
        "mes_repetido = auxilio_df.groupBy(\"beneficiario\") \\\n",
        "    .agg(F.count(\"*\").alias(\"qtd_nome\")) \\\n",
        "    .orderBy(F.col(\"qtd_nome\").desc()) \\\n",
        "    .limit(10)\n",
        "\n",
        "mes_repetido.show(n=mes_repetido.count(), truncate=False)"
      ]
    },
    {
      "cell_type": "markdown",
      "metadata": {
        "id": "iZ9Gxt-2wKIT"
      },
      "source": [
        "# Perguntas Extras"
      ]
    },
    {
      "cell_type": "markdown",
      "metadata": {
        "id": "j_7kXJ09wMdZ"
      },
      "source": [
        "6- Beneficiários com maior quantidade de valor recebido (Pessoa x valor)"
      ]
    },
    {
      "cell_type": "code",
      "execution_count": null,
      "metadata": {
        "id": "tr0poB65wOV5"
      },
      "outputs": [],
      "source": [
        "beneficiarios_valor_df = auxilio_emergencial.groupBy(\"beneficiario\") \\\n",
        "    .agg(F.sum(\"valor\").alias(\"total_valor_recebido\")) \\\n",
        "    .orderBy(F.col(\"total_valor_recebido\").desc()) \\\n",
        "    .limit(10)\n",
        "\n",
        "beneficiarios_valor_df.show(n=beneficiarios_valor_df.count(), truncate=False)"
      ]
    },
    {
      "cell_type": "markdown",
      "metadata": {
        "id": "vVXAOEOowS77"
      },
      "source": [
        "7- Quantidade de auxilio distribuido por mês (ano_mes x qtd_parcela)"
      ]
    },
    {
      "cell_type": "code",
      "execution_count": null,
      "metadata": {
        "id": "IgI4I1vkwQxg"
      },
      "outputs": [],
      "source": [
        "auxilio_por_mes_df = auxilio_emergencial.groupBy(\"ano_mes\") \\\n",
        "    .agg(F.count(\"parcela\").alias(\"qtd_parcelas\")) \\\n",
        "    .orderBy(\"ano_mes\")\n",
        "\n",
        "auxilio_por_mes_df.show(n=auxilio_por_mes_df.count(), truncate=False)"
      ]
    }
  ],
  "metadata": {
    "colab": {
      "provenance": []
    },
    "kernelspec": {
      "display_name": "Python 3",
      "name": "python3"
    },
    "language_info": {
      "name": "python"
    }
  },
  "nbformat": 4,
  "nbformat_minor": 0
}
